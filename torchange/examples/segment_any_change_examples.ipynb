{
 "cells": [
  {
   "cell_type": "markdown",
   "metadata": {},
   "source": [
    "# Segment Any Change Examples\n"
   ]
  },
  {
   "cell_type": "markdown",
   "metadata": {},
   "source": [
    "## Case 1: automatic mode (segment any change)\n"
   ]
  },
  {
   "cell_type": "code",
   "execution_count": null,
   "metadata": {},
   "outputs": [],
   "source": [
    "import matplotlib.pyplot as plt\n",
    "from skimage.io import imread\n",
    "from torchange.models.segment_any_change import AnyChange, show_change_masks\n\n",
    "# initialize AnyChange\n",
    "m = AnyChange('vit_h', sam_checkpoint='./sam_vit_h_4b8939.pth')\n",
    "# customize the hyperparameters of SAM's mask generator\n",
    "m.make_mask_generator(\n",
    "    points_per_side=32,\n",
    "    stability_score_thresh=0.95,\n",
    ")\n",
    "# customize your AnyChange's hyperparameters\n",
    "m.set_hyperparameters(\n",
    "    change_confidence_threshold=145,\n",
    "    use_normalized_feature=True,\n",
    "    bitemporal_match=True,\n",
    ")\n\n",
    "img1 = imread('https://raw.githubusercontent.com/Z-Zheng/pytorch-change-models/main/demo_images/t1_img.png')\n",
    "img2 = imread('https://raw.githubusercontent.com/Z-Zheng/pytorch-change-models/main/demo_images/t2_img.png')\n\n",
    "changemasks, _, _ = m.forward(img1, img2) # automatic mode\n",
    "fig, axes = show_change_masks(img1, img2, changemasks)\n\n",
    "plt.show()\n"
   ]
  },
  {
   "cell_type": "markdown",
   "metadata": {},
   "source": [
    "## Case 2: point query mode (segment change of interest)\n"
   ]
  },
  {
   "cell_type": "code",
   "execution_count": null,
   "metadata": {},
   "outputs": [],
   "source": [
    "import matplotlib.pyplot as plt\n",
    "from skimage.io import imread\n",
    "from torchange.models.segment_any_change import AnyChange, show_change_masks\n\n",
    "# initialize AnyChange\n",
    "m = AnyChange('vit_h', sam_checkpoint='./sam_vit_h_4b8939.pth')\n",
    "# customize the hyperparameters of SAM's mask generator\n",
    "m.make_mask_generator(\n",
    "    points_per_side=32,\n",
    "    stability_score_thresh=0.95,\n",
    ")\n",
    "# customize your AnyChange's hyperparameters\n",
    "m.set_hyperparameters(\n",
    "    change_confidence_threshold=145,\n",
    "    use_normalized_feature=True,\n",
    "    bitemporal_match=True,\n",
    "    object_sim_thresh=60, # for point query\n",
    ")\n\n",
    "img1 = imread('https://raw.githubusercontent.com/Z-Zheng/pytorch-change-models/main/demo_images/t1_img.png')\n",
    "img2 = imread('https://raw.githubusercontent.com/Z-Zheng/pytorch-change-models/main/demo_images/t2_img.png')\n\n",
    "# parameter description:\n",
    "# xy: an absolute image coordinate.\n",
    "# temporal: indicate which time the point belongs to\n",
    "changemasks = m.single_point_match(xy=[926, 44], temporal=2, img1=img1, img2=img2)\n",
    "fig, axes = show_change_masks(img1, img2, changemasks)\n\n",
    "plt.show()\n"
   ]
  }
 ],
 "metadata": {
  "kernelspec": {
   "display_name": "Python 3",
   "language": "python",
   "name": "python3"
  },
  "language_info": {
   "name": "python",
   "version": "3"
  }
 },
 "nbformat": 4,
 "nbformat_minor": 5
}