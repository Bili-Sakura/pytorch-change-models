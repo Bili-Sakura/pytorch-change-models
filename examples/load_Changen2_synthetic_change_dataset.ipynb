{
 "cells": [
  {
   "cell_type": "code",
   "id": "initial_id",
   "metadata": {
    "collapsed": true,
    "ExecuteTime": {
     "end_time": "2025-08-08T03:18:12.252902Z",
     "start_time": "2025-08-08T03:18:11.028198Z"
    }
   },
   "source": "from datasets import load_dataset",
   "outputs": [],
   "execution_count": 1
  },
  {
   "metadata": {},
   "cell_type": "markdown",
   "source": [
    "Loading Changen2-S1-15k dataset from huggingface\n",
    "\n",
    "Globally distributed synthetic building change dataset with 15k pairs and 2 change types"
   ],
   "id": "20510f058b52434c"
  },
  {
   "metadata": {},
   "cell_type": "code",
   "source": [
    "ds = load_dataset(\"EVER-Z/torchange_Changen2-S1-15k\")\n",
    "ds"
   ],
   "id": "22925c3e797daf0b",
   "outputs": [],
   "execution_count": null
  },
  {
   "metadata": {},
   "cell_type": "markdown",
   "source": [
    "syntheticLoading Changen2-S9-27k dataset from huggingface\n",
    "\n",
    "Globally distributed synthetic urban land-use/landcover change dataset with 27k pairs and 38 change types"
   ],
   "id": "245e83c652fabe7"
  },
  {
   "metadata": {},
   "cell_type": "code",
   "outputs": [],
   "execution_count": null,
   "source": [
    "ds = load_dataset(\"EVER-Z/torchange_Changen2-S9-27k\")\n",
    "ds"
   ],
   "id": "8c17e339961b0031"
  }
 ],
 "metadata": {
  "kernelspec": {
   "display_name": "Python 3",
   "language": "python",
   "name": "python3"
  },
  "language_info": {
   "codemirror_mode": {
    "name": "ipython",
    "version": 2
   },
   "file_extension": ".py",
   "mimetype": "text/x-python",
   "name": "python",
   "nbconvert_exporter": "python",
   "pygments_lexer": "ipython2",
   "version": "2.7.6"
  }
 },
 "nbformat": 4,
 "nbformat_minor": 5
}
